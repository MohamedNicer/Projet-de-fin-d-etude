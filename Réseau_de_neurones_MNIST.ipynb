{
  "nbformat": 4,
  "nbformat_minor": 0,
  "metadata": {
    "colab": {
      "name": "Réseau_de_neurones_MNIST.ipynb",
      "provenance": [],
      "collapsed_sections": [],
      "include_colab_link": true
    },
    "kernelspec": {
      "name": "python3",
      "display_name": "Python 3"
    },
    "language_info": {
      "name": "python"
    }
  },
  "cells": [
    {
      "cell_type": "markdown",
      "metadata": {
        "id": "view-in-github",
        "colab_type": "text"
      },
      "source": [
        "<a href=\"https://colab.research.google.com/github/MohamedNicer/Projet-de-fin-d-etude/blob/main/R%C3%A9seau_de_neurones_MNIST.ipynb\" target=\"_parent\"><img src=\"https://colab.research.google.com/assets/colab-badge.svg\" alt=\"Open In Colab\"/></a>"
      ]
    },
    {
      "cell_type": "markdown",
      "metadata": {
        "id": "gmrWPXBtiEHR"
      },
      "source": [
        "# Préparation des outils à utiliser dans cette implémentation\n"
      ]
    },
    {
      "cell_type": "code",
      "metadata": {
        "id": "sf_BejDF5t88"
      },
      "source": [
        "# importer les packages\n",
        "import tensorflow as tf\n",
        "from tensorflow import keras\n",
        "from tensorflow.keras import layers\n",
        "from tensorflow.keras.datasets import mnist\n",
        "import seaborn as sns\n",
        "import numpy as np                   \n",
        "import matplotlib.pyplot as plt      # pour présenter les données\n",
        "from sklearn.metrics import confusion_matrix"
      ],
      "execution_count": null,
      "outputs": []
    },
    {
      "cell_type": "code",
      "metadata": {
        "id": "zh_7g2bO5w_y",
        "colab": {
          "base_uri": "https://localhost:8080/"
        },
        "outputId": "bda98ecc-99a6-4dc8-c907-e5f4e262521f"
      },
      "source": [
        "(x_train, y_train), (x_test, y_test) = mnist.load_data()\n",
        "x_train = x_train/ 255.0\n",
        "x_test = x_test / 255.0"
      ],
      "execution_count": null,
      "outputs": [
        {
          "output_type": "stream",
          "text": [
            "Downloading data from https://storage.googleapis.com/tensorflow/tf-keras-datasets/mnist.npz\n",
            "11493376/11490434 [==============================] - 0s 0us/step\n"
          ],
          "name": "stdout"
        }
      ]
    },
    {
      "cell_type": "code",
      "metadata": {
        "id": "kwZlPMy3iPnk"
      },
      "source": [
        ""
      ],
      "execution_count": null,
      "outputs": []
    },
    {
      "cell_type": "markdown",
      "metadata": {
        "id": "lydBpkiliJmt"
      },
      "source": [
        "# Création d'un modèle séquentiel"
      ]
    },
    {
      "cell_type": "code",
      "metadata": {
        "colab": {
          "base_uri": "https://localhost:8080/",
          "height": 52
        },
        "id": "E35fa-m554rj",
        "outputId": "cbd7c7c8-90c6-4a76-b570-60f4dfe742c4"
      },
      "source": [
        "# API séquentiel (Très pratique, pas très flexible)\n",
        "\n",
        "model = tf.keras.Sequential([\n",
        "    tf.keras.layers.Flatten(input_shape=(28, 28)),\n",
        "    tf.keras.layers.Dense(128, activation='relu'),\n",
        "    tf.keras.layers.Dense(10,activation = 'softmax')\n",
        "])"
      ],
      "execution_count": null,
      "outputs": [
        {
          "output_type": "execute_result",
          "data": {
            "application/vnd.google.colaboratory.intrinsic+json": {
              "type": "string"
            },
            "text/plain": [
              "'\\nmodel = keras.Sequential()\\nmodel.add(keras.Input(shape=(784)))\\nmodel.add(layers.Dense(512, activation=\"relu\"))\\nmodel.add(layers.Dense(256, activation=\"relu\", name=\"my_layer\"))\\nmodel.add(layers.Dense(10 , activation=\"softmax\"))\\n'"
            ]
          },
          "metadata": {
            "tags": []
          },
          "execution_count": 3
        }
      ]
    },
    {
      "cell_type": "code",
      "metadata": {
        "colab": {
          "base_uri": "https://localhost:8080/"
        },
        "id": "Ipmtnegk5735",
        "outputId": "744d2165-0e44-48b4-df21-5fedc40f178a"
      },
      "source": [
        "model.compile(\n",
        "    loss=keras.losses.SparseCategoricalCrossentropy(from_logits=False),\n",
        "    optimizer=keras.optimizers.Adam(lr=0.001),\n",
        "    metrics=[\"accuracy\"],\n",
        ")"
      ],
      "execution_count": null,
      "outputs": [
        {
          "output_type": "stream",
          "text": [
            "/usr/local/lib/python3.7/dist-packages/tensorflow/python/keras/optimizer_v2/optimizer_v2.py:375: UserWarning: The `lr` argument is deprecated, use `learning_rate` instead.\n",
            "  \"The `lr` argument is deprecated, use `learning_rate` instead.\")\n"
          ],
          "name": "stderr"
        }
      ]
    },
    {
      "cell_type": "code",
      "metadata": {
        "colab": {
          "base_uri": "https://localhost:8080/"
        },
        "id": "c-iXPI266KBS",
        "outputId": "c2909e60-ed4f-4510-abc0-d43d4f9521d1"
      },
      "source": [
        "test = model.fit(x_train, y_train, batch_size=32, epochs=5, verbose=2)"
      ],
      "execution_count": null,
      "outputs": [
        {
          "output_type": "stream",
          "text": [
            "Epoch 1/5\n",
            "1875/1875 - 4s - loss: 0.2579 - accuracy: 0.9270\n",
            "Epoch 2/5\n",
            "1875/1875 - 3s - loss: 0.1143 - accuracy: 0.9664\n",
            "Epoch 3/5\n",
            "1875/1875 - 3s - loss: 0.0789 - accuracy: 0.9759\n",
            "Epoch 4/5\n",
            "1875/1875 - 3s - loss: 0.0578 - accuracy: 0.9822\n",
            "Epoch 5/5\n",
            "1875/1875 - 3s - loss: 0.0454 - accuracy: 0.9865\n"
          ],
          "name": "stdout"
        }
      ]
    },
    {
      "cell_type": "code",
      "metadata": {
        "colab": {
          "base_uri": "https://localhost:8080/"
        },
        "id": "6TOwW9c36NYJ",
        "outputId": "705bdd1f-7532-445e-8f7a-32ad74232e54"
      },
      "source": [
        "model.evaluate(x_test, y_test, batch_size=32, verbose=2)"
      ],
      "execution_count": null,
      "outputs": [
        {
          "output_type": "stream",
          "text": [
            "313/313 - 0s - loss: 0.0737 - accuracy: 0.9779\n"
          ],
          "name": "stdout"
        },
        {
          "output_type": "execute_result",
          "data": {
            "text/plain": [
              "[0.07367633283138275, 0.9779000282287598]"
            ]
          },
          "metadata": {
            "tags": []
          },
          "execution_count": 6
        }
      ]
    }
  ]
}